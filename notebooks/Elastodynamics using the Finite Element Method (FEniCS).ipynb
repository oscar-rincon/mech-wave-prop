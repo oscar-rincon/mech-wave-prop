{
 "cells": [
  {
   "cell_type": "markdown",
   "id": "b84cd5b0",
   "metadata": {},
   "source": [
    "# Elastodynamics using the Finite Elements Method (FEM)\n",
    "\n",
    "\n",
    "## Problem statement\n",
    "\n",
    "\n",
    "The one-dimensional elastic wave equation is given by:\n",
    "\n",
    "$$\n",
    "\\rho \\frac{\\partial^2 u}{\\partial t^2} = \\frac{\\partial}{\\partial x} \\mu \\frac{\\partial u}{\\partial x} + f\n",
    "$$\n",
    "\n",
    "\n",
    "The corresponding weak form is:\n",
    "\n",
    "$$\n",
    "\\int_{D} \\rho  \\frac{\\partial^{2} \\overline{u}}{\\partial t^{2}} \\varphi_{j} dx + \\int_{D} \\mu \\frac{\\partial \\overline{u}}{\\partial x} \\varphi_{j} dx = \\int_{D} f \\varphi_{j} dx \n",
    "$$\n",
    "\n",
    "which can be expressed in matrix form as:\n",
    "\n",
    "$$\n",
    "\\mathbf{M}^{T} \\frac{\\partial^{2}}{\\partial t^{2}} \\mathbf{u}  + \\mathbf{K}^{T} \\mathbf{u}  = \\mathbf{f}\n",
    "$$\n",
    "\n",
    "where $\\mathbf{M}$ is the mass matrix, $\\mathbf{K}$ is the stiffness matrix, $\\mathbf{f}$ the source vector and $\\mathbf{u}$ the displacements vector. Considering the approximation:\n",
    "\n",
    "$$\n",
    "\\frac{\\partial^{2}}{\\partial t^{2}} \\mathbf{u} \\approx \\frac{u(t+dt)-2u(t)+u(t-dt)}{dt^{2}}\n",
    "$$\n",
    "\n",
    "we get that:\n",
    "\n",
    "$$\n",
    "\\mathbf{u}(t+dt) = dt^{2} \\left( \\mathbf{M}^{T} \\right)^{-1} \\left[ \\mathbf{f} - \\mathbf{K}^{T} \\mathbf{u} \\right] + 2 \\mathbf{u}(t) + \\mathbf{u}(t + dt) \n",
    "$$\n",
    "\n",
    "\n",
    "## Import required libraries"
   ]
  },
  {
   "cell_type": "code",
   "execution_count": 8,
   "id": "27010e8a",
   "metadata": {},
   "outputs": [],
   "source": [
    "from mpi4py import MPI\n",
    "from dolfinx import mesh\n",
    "domain = mesh.create_unit_square(MPI.COMM_WORLD, 8, 8, mesh.CellType.quadrilateral)"
   ]
  },
  {
   "cell_type": "markdown",
   "id": "211295c5",
   "metadata": {},
   "source": [
    "## Functions"
   ]
  },
  {
   "cell_type": "code",
   "execution_count": 12,
   "id": "e9446b43-7086-446d-aafb-56fbf385a8ac",
   "metadata": {},
   "outputs": [],
   "source": [
    "from dolfinx.fem import FunctionSpace\n",
    "V = FunctionSpace(domain, (\"Lagrange\", 1))\n",
    "from dolfinx import fem\n",
    "uD = fem.Function(V)\n",
    "uD.interpolate(lambda x: 1 + x[0]**2 + 2 * x[1]**2)\n",
    "import numpy\n",
    "# Create facet to cell connectivity required to determine boundary facets\n",
    "tdim = domain.topology.dim\n",
    "fdim = tdim - 1\n",
    "domain.topology.create_connectivity(fdim, tdim)\n",
    "boundary_facets = mesh.exterior_facet_indices(domain.topology)\n",
    "boundary_dofs = fem.locate_dofs_topological(V, fdim, boundary_facets)\n",
    "bc = fem.dirichletbc(uD, boundary_dofs)"
   ]
  },
  {
   "cell_type": "code",
   "execution_count": 13,
   "id": "1992f54e-bd9e-4a59-ad49-d88523c0e166",
   "metadata": {},
   "outputs": [],
   "source": [
    "import ufl\n",
    "u = ufl.TrialFunction(V)\n",
    "v = ufl.TestFunction(V)"
   ]
  },
  {
   "cell_type": "code",
   "execution_count": 14,
   "id": "75caf101-71c0-4213-b28f-96aa2f5b47ff",
   "metadata": {},
   "outputs": [],
   "source": [
    "from dolfinx import default_scalar_type\n",
    "f = fem.Constant(domain, default_scalar_type(-6))"
   ]
  },
  {
   "cell_type": "code",
   "execution_count": 15,
   "id": "d6c1645e-06c3-4a13-8cc4-2e906969b3cc",
   "metadata": {},
   "outputs": [],
   "source": [
    "a = ufl.dot(ufl.grad(u), ufl.grad(v)) * ufl.dx\n",
    "L = f * v * ufl.dx"
   ]
  },
  {
   "cell_type": "code",
   "execution_count": 16,
   "id": "de861c43-6f9c-46d8-b965-fce73832a22a",
   "metadata": {},
   "outputs": [],
   "source": [
    "from dolfinx.fem.petsc import LinearProblem\n",
    "problem = LinearProblem(a, L, bcs=[bc], petsc_options={\"ksp_type\": \"preonly\", \"pc_type\": \"lu\"})\n",
    "uh = problem.solve()"
   ]
  },
  {
   "cell_type": "code",
   "execution_count": 18,
   "id": "fc6c6581-e99b-4f50-a04e-b518814e7eab",
   "metadata": {},
   "outputs": [
    {
     "name": "stdout",
     "output_type": "stream",
     "text": [
      "trame\n"
     ]
    }
   ],
   "source": [
    "import pyvista\n",
    "print(pyvista.global_theme.jupyter_backend)"
   ]
  },
  {
   "cell_type": "code",
   "execution_count": 19,
   "id": "151199a1-b5f6-4c4c-928d-2f1f8ee8e565",
   "metadata": {},
   "outputs": [
    {
     "ename": "OSError",
     "evalue": "Please install Xvfb with:\n\nDebian\n$ sudo apt install libgl1-mesa-glx xvfb\n\nCentOS / RHL\n$ sudo yum install libgl1-mesa-glx xvfb\n\n",
     "output_type": "error",
     "traceback": [
      "\u001b[0;31m---------------------------------------------------------------------------\u001b[0m",
      "\u001b[0;31mOSError\u001b[0m                                   Traceback (most recent call last)",
      "Cell \u001b[0;32mIn[19], line 2\u001b[0m\n\u001b[1;32m      1\u001b[0m \u001b[38;5;28;01mfrom\u001b[39;00m \u001b[38;5;21;01mdolfinx\u001b[39;00m \u001b[38;5;28;01mimport\u001b[39;00m plot\n\u001b[0;32m----> 2\u001b[0m \u001b[43mpyvista\u001b[49m\u001b[38;5;241;43m.\u001b[39;49m\u001b[43mstart_xvfb\u001b[49m\u001b[43m(\u001b[49m\u001b[43m)\u001b[49m\n\u001b[1;32m      3\u001b[0m topology, cell_types, geometry \u001b[38;5;241m=\u001b[39m plot\u001b[38;5;241m.\u001b[39mvtk_mesh(domain, tdim)\n\u001b[1;32m      4\u001b[0m grid \u001b[38;5;241m=\u001b[39m pyvista\u001b[38;5;241m.\u001b[39mUnstructuredGrid(topology, cell_types, geometry)\n",
      "File \u001b[0;32m~/miniconda3/envs/fenicsx-env/lib/python3.12/site-packages/pyvista/plotting/utilities/xvfb.py:47\u001b[0m, in \u001b[0;36mstart_xvfb\u001b[0;34m(wait, window_size)\u001b[0m\n\u001b[1;32m     44\u001b[0m     \u001b[38;5;28;01mraise\u001b[39;00m \u001b[38;5;167;01mOSError\u001b[39;00m(\u001b[38;5;124m'\u001b[39m\u001b[38;5;124m`start_xvfb` is only supported on Linux\u001b[39m\u001b[38;5;124m'\u001b[39m)\n\u001b[1;32m     46\u001b[0m \u001b[38;5;28;01mif\u001b[39;00m os\u001b[38;5;241m.\u001b[39msystem(\u001b[38;5;124m'\u001b[39m\u001b[38;5;124mwhich Xvfb > /dev/null\u001b[39m\u001b[38;5;124m'\u001b[39m):\n\u001b[0;32m---> 47\u001b[0m     \u001b[38;5;28;01mraise\u001b[39;00m \u001b[38;5;167;01mOSError\u001b[39;00m(XVFB_INSTALL_NOTES)\n\u001b[1;32m     49\u001b[0m \u001b[38;5;66;03m# use current default window size\u001b[39;00m\n\u001b[1;32m     50\u001b[0m \u001b[38;5;28;01mif\u001b[39;00m window_size \u001b[38;5;129;01mis\u001b[39;00m \u001b[38;5;28;01mNone\u001b[39;00m:\n",
      "\u001b[0;31mOSError\u001b[0m: Please install Xvfb with:\n\nDebian\n$ sudo apt install libgl1-mesa-glx xvfb\n\nCentOS / RHL\n$ sudo yum install libgl1-mesa-glx xvfb\n\n"
     ]
    }
   ],
   "source": [
    "from dolfinx import plot\n",
    "pyvista.start_xvfb()\n",
    "topology, cell_types, geometry = plot.vtk_mesh(domain, tdim)\n",
    "grid = pyvista.UnstructuredGrid(topology, cell_types, geometry)"
   ]
  },
  {
   "cell_type": "code",
   "execution_count": 20,
   "id": "da0427c8-5d87-443a-b68d-1326afda9ffa",
   "metadata": {},
   "outputs": [],
   "source": [
    "import matplotlib.pyplot as plt\n",
    "import pyvista\n",
    "import ufl\n",
    "import numpy as np\n",
    "\n",
    "from petsc4py import PETSc\n",
    "from mpi4py import MPI\n",
    "\n",
    "from dolfinx import fem, mesh, io, plot\n",
    "from dolfinx.fem.petsc import assemble_vector, assemble_matrix, create_vector, apply_lifting, set_bc\n",
    "\n",
    "# Define temporal parameters\n",
    "t = 0  # Start time\n",
    "T = 1.0  # Final time\n",
    "num_steps = 50\n",
    "dt = T / num_steps  # time step size\n",
    "\n",
    "# Define mesh\n",
    "nx, ny = 50, 50\n",
    "domain = mesh.create_rectangle(MPI.COMM_WORLD, [np.array([-2, -2]), np.array([2, 2])],\n",
    "                               [nx, ny], mesh.CellType.triangle)\n",
    "V = fem.FunctionSpace(domain, (\"Lagrange\", 1))"
   ]
  },
  {
   "cell_type": "code",
   "execution_count": null,
   "id": "369e9608-eec2-4493-8802-10431e529582",
   "metadata": {},
   "outputs": [],
   "source": []
  },
  {
   "cell_type": "code",
   "execution_count": null,
   "id": "2aeef6dc-1a17-469a-bd20-085e0b645bbd",
   "metadata": {},
   "outputs": [],
   "source": []
  },
  {
   "cell_type": "code",
   "execution_count": null,
   "id": "0bf34177-b2af-4c0d-b9a4-15bd3b75b674",
   "metadata": {},
   "outputs": [],
   "source": []
  },
  {
   "cell_type": "code",
   "execution_count": 21,
   "id": "3a913ce2-c006-4061-83c8-bb7f5690b8df",
   "metadata": {},
   "outputs": [],
   "source": [
    "# Create initial condition\n",
    "def initial_condition(x, a=5):\n",
    "    return np.exp(-a * (x[0]**2 + x[1]**2))\n",
    "\n",
    "\n",
    "u_n = fem.Function(V)\n",
    "u_n.name = \"u_n\"\n",
    "u_n.interpolate(initial_condition)\n",
    "\n",
    "# Create boundary condition\n",
    "fdim = domain.topology.dim - 1\n",
    "boundary_facets = mesh.locate_entities_boundary(\n",
    "    domain, fdim, lambda x: np.full(x.shape[1], True, dtype=bool))\n",
    "bc = fem.dirichletbc(PETSc.ScalarType(0), fem.locate_dofs_topological(V, fdim, boundary_facets), V)"
   ]
  },
  {
   "cell_type": "code",
   "execution_count": 22,
   "id": "fb085c09-3453-452a-a2e5-887fbee45d84",
   "metadata": {},
   "outputs": [],
   "source": [
    "xdmf = io.XDMFFile(domain.comm, \"diffusion.xdmf\", \"w\")\n",
    "xdmf.write_mesh(domain)\n",
    "\n",
    "# Define solution variable, and interpolate initial solution for visualization in Paraview\n",
    "uh = fem.Function(V)\n",
    "uh.name = \"uh\"\n",
    "uh.interpolate(initial_condition)\n",
    "xdmf.write_function(uh, t)"
   ]
  },
  {
   "cell_type": "code",
   "execution_count": 23,
   "id": "b0842342-9889-4c42-b33b-494d1d339f50",
   "metadata": {},
   "outputs": [],
   "source": [
    "u, v = ufl.TrialFunction(V), ufl.TestFunction(V)\n",
    "f = fem.Constant(domain, PETSc.ScalarType(0))\n",
    "a = u * v * ufl.dx + dt * ufl.dot(ufl.grad(u), ufl.grad(v)) * ufl.dx\n",
    "L = (u_n + dt * f) * v * ufl.dx"
   ]
  },
  {
   "cell_type": "code",
   "execution_count": 24,
   "id": "f6f808c0-9817-4bf7-a058-f49b0aa5269a",
   "metadata": {},
   "outputs": [],
   "source": [
    "bilinear_form = fem.form(a)\n",
    "linear_form = fem.form(L)"
   ]
  },
  {
   "cell_type": "code",
   "execution_count": 27,
   "id": "ec2288b2-f28f-4d21-a334-12e93dbd156f",
   "metadata": {},
   "outputs": [],
   "source": [
    "A = assemble_matrix(bilinear_form, bcs=[bc])\n",
    "A.assemble()\n",
    "b = create_vector(linear_form)"
   ]
  },
  {
   "cell_type": "code",
   "execution_count": 28,
   "id": "cef65226-b231-4c41-b27f-be14dcc4f1f5",
   "metadata": {},
   "outputs": [],
   "source": [
    "solver = PETSc.KSP().create(domain.comm)\n",
    "solver.setOperators(A)\n",
    "solver.setType(PETSc.KSP.Type.PREONLY)\n",
    "solver.getPC().setType(PETSc.PC.Type.LU)"
   ]
  },
  {
   "cell_type": "code",
   "execution_count": 29,
   "id": "64350fc9-65ac-4247-a544-bdb1cbe5f793",
   "metadata": {},
   "outputs": [
    {
     "ename": "OSError",
     "evalue": "Please install Xvfb with:\n\nDebian\n$ sudo apt install libgl1-mesa-glx xvfb\n\nCentOS / RHL\n$ sudo yum install libgl1-mesa-glx xvfb\n\n",
     "output_type": "error",
     "traceback": [
      "\u001b[0;31m---------------------------------------------------------------------------\u001b[0m",
      "\u001b[0;31mOSError\u001b[0m                                   Traceback (most recent call last)",
      "Cell \u001b[0;32mIn[29], line 2\u001b[0m\n\u001b[1;32m      1\u001b[0m \u001b[38;5;28;01mimport\u001b[39;00m \u001b[38;5;21;01mmatplotlib\u001b[39;00m \u001b[38;5;28;01mas\u001b[39;00m \u001b[38;5;21;01mmpl\u001b[39;00m\n\u001b[0;32m----> 2\u001b[0m \u001b[43mpyvista\u001b[49m\u001b[38;5;241;43m.\u001b[39;49m\u001b[43mstart_xvfb\u001b[49m\u001b[43m(\u001b[49m\u001b[43m)\u001b[49m\n\u001b[1;32m      4\u001b[0m grid \u001b[38;5;241m=\u001b[39m pyvista\u001b[38;5;241m.\u001b[39mUnstructuredGrid(\u001b[38;5;241m*\u001b[39mplot\u001b[38;5;241m.\u001b[39mvtk_mesh(V))\n\u001b[1;32m      6\u001b[0m plotter \u001b[38;5;241m=\u001b[39m pyvista\u001b[38;5;241m.\u001b[39mPlotter()\n",
      "File \u001b[0;32m~/miniconda3/envs/fenicsx-env/lib/python3.12/site-packages/pyvista/plotting/utilities/xvfb.py:47\u001b[0m, in \u001b[0;36mstart_xvfb\u001b[0;34m(wait, window_size)\u001b[0m\n\u001b[1;32m     44\u001b[0m     \u001b[38;5;28;01mraise\u001b[39;00m \u001b[38;5;167;01mOSError\u001b[39;00m(\u001b[38;5;124m'\u001b[39m\u001b[38;5;124m`start_xvfb` is only supported on Linux\u001b[39m\u001b[38;5;124m'\u001b[39m)\n\u001b[1;32m     46\u001b[0m \u001b[38;5;28;01mif\u001b[39;00m os\u001b[38;5;241m.\u001b[39msystem(\u001b[38;5;124m'\u001b[39m\u001b[38;5;124mwhich Xvfb > /dev/null\u001b[39m\u001b[38;5;124m'\u001b[39m):\n\u001b[0;32m---> 47\u001b[0m     \u001b[38;5;28;01mraise\u001b[39;00m \u001b[38;5;167;01mOSError\u001b[39;00m(XVFB_INSTALL_NOTES)\n\u001b[1;32m     49\u001b[0m \u001b[38;5;66;03m# use current default window size\u001b[39;00m\n\u001b[1;32m     50\u001b[0m \u001b[38;5;28;01mif\u001b[39;00m window_size \u001b[38;5;129;01mis\u001b[39;00m \u001b[38;5;28;01mNone\u001b[39;00m:\n",
      "\u001b[0;31mOSError\u001b[0m: Please install Xvfb with:\n\nDebian\n$ sudo apt install libgl1-mesa-glx xvfb\n\nCentOS / RHL\n$ sudo yum install libgl1-mesa-glx xvfb\n\n"
     ]
    }
   ],
   "source": [
    "import matplotlib as mpl\n",
    "pyvista.start_xvfb()\n",
    "\n",
    "grid = pyvista.UnstructuredGrid(*plot.vtk_mesh(V))\n",
    "\n",
    "plotter = pyvista.Plotter()\n",
    "plotter.open_gif(\"u_time.gif\", fps=10)\n",
    "\n",
    "grid.point_data[\"uh\"] = uh.x.array\n",
    "warped = grid.warp_by_scalar(\"uh\", factor=1)\n",
    "\n",
    "viridis = mpl.colormaps.get_cmap(\"viridis\").resampled(25)\n",
    "sargs = dict(title_font_size=25, label_font_size=20, fmt=\"%.2e\", color=\"black\",\n",
    "             position_x=0.1, position_y=0.8, width=0.8, height=0.1)\n",
    "\n",
    "renderer = plotter.add_mesh(warped, show_edges=True, lighting=False,\n",
    "                            cmap=viridis, scalar_bar_args=sargs,\n",
    "                            clim=[0, max(uh.x.array)])"
   ]
  },
  {
   "cell_type": "markdown",
   "id": "884dc3d7",
   "metadata": {},
   "source": [
    "## Style for text in Markdown"
   ]
  },
  {
   "cell_type": "code",
   "execution_count": 3,
   "id": "89ae0205",
   "metadata": {},
   "outputs": [
    {
     "data": {
      "text/html": [
       "<link href=\"https://fonts.googleapis.com/css?family=Merriweather:300,300i,400,400i,700,700i,900,900i\" rel='stylesheet' >\n",
       "<link href=\"https://fonts.googleapis.com/css?family=Source+Sans+Pro:300,300i,400,400i,700,700i\" rel='stylesheet' >\n",
       "<link href='http://fonts.googleapis.com/css?family=Source+Code+Pro:300,400' rel='stylesheet' >\n",
       "<style>\n",
       "\n",
       "@font-face {\n",
       "    font-family: \"Computer Modern\";\n",
       "    src: url('http://mirrors.ctan.org/fonts/cm-unicode/fonts/otf/cmunss.otf');\n",
       "}\n",
       "\n",
       "\n",
       "#notebook_panel { /* main background */\n",
       "    background: rgb(245,245,245);\n",
       "}\n",
       "\n",
       "div.cell { /* set cell width */\n",
       "    width: 800px;\n",
       "}\n",
       "\n",
       "div #notebook { /* centre the content */\n",
       "    background: #fff; /* white background for content */\n",
       "    width: 1000px;\n",
       "    margin: auto;\n",
       "    padding-left: 0em;\n",
       "}\n",
       "\n",
       "#notebook li { /* More space between bullet points */\n",
       "margin-top:0.5em;\n",
       "}\n",
       "\n",
       "/* draw border around running cells */\n",
       "div.cell.border-box-sizing.code_cell.running { \n",
       "    border: 1px solid #111;\n",
       "}\n",
       "\n",
       "/* Put a solid color box around each cell and its output, visually linking them*/\n",
       "div.cell.code_cell {\n",
       "    background-color: rgb(256,256,256); \n",
       "    border-radius: 0px; \n",
       "    padding: 0.5em;\n",
       "    margin-left:1em;\n",
       "    margin-top: 1em;\n",
       "}\n",
       "\n",
       "\n",
       "div.text_cell_render{\n",
       "    font-family: 'Source Sans Pro', sans-serif;\n",
       "    line-height: 140%;\n",
       "    font-size: 110%;\n",
       "    width:680px;\n",
       "    margin-left:auto;\n",
       "    margin-right:auto;\n",
       "}\n",
       "\n",
       "/* Formatting for header cells */\n",
       ".text_cell_render h1 {\n",
       "    font-family: 'Merriweather', serif;\n",
       "    font-style:regular;\n",
       "    font-weight: bold;    \n",
       "    font-size: 250%;\n",
       "    line-height: 100%;\n",
       "    color: #004065;\n",
       "    margin-bottom: 1em;\n",
       "    margin-top: 0.5em;\n",
       "    display: block;\n",
       "}\t\n",
       ".text_cell_render h2 {\n",
       "    font-family: 'Merriweather', serif;\n",
       "    font-weight: bold; \n",
       "    font-size: 180%;\n",
       "    line-height: 100%;\n",
       "    color: #0096d6;\n",
       "    margin-bottom: 0.5em;\n",
       "    margin-top: 0.5em;\n",
       "    display: block;\n",
       "}\t\n",
       "\n",
       ".text_cell_render h3 {\n",
       "    font-family: 'Merriweather', serif;\n",
       "\tfont-size: 150%;\n",
       "    margin-top:12px;\n",
       "    margin-bottom: 3px;\n",
       "    font-style: regular;\n",
       "    color: #008367;\n",
       "}\n",
       "\n",
       ".text_cell_render h4 {    /*Use this for captions*/\n",
       "    font-family: 'Merriweather', serif;\n",
       "    font-weight: 300; \n",
       "    font-size: 100%;\n",
       "    line-height: 120%;\n",
       "    text-align: left;\n",
       "    width:500px;\n",
       "    margin-top: 1em;\n",
       "    margin-bottom: 2em;\n",
       "    margin-left: 80pt;\n",
       "    font-style: regular;\n",
       "}\n",
       "\n",
       ".text_cell_render h5 {  /*Use this for small titles*/\n",
       "    font-family: 'Source Sans Pro', sans-serif;\n",
       "    font-weight: regular;\n",
       "    font-size: 130%;\n",
       "    color: #e31937;\n",
       "    font-style: italic;\n",
       "    margin-bottom: .5em;\n",
       "    margin-top: 1em;\n",
       "    display: block;\n",
       "}\n",
       "\n",
       ".text_cell_render h6 { /*use this for copyright note*/\n",
       "    font-family: 'Source Code Pro', sans-serif;\n",
       "    font-weight: 300;\n",
       "    font-size: 9pt;\n",
       "    line-height: 100%;\n",
       "    color: grey;\n",
       "    margin-bottom: 1px;\n",
       "    margin-top: 1px;\n",
       "}\n",
       "\n",
       "    .CodeMirror{\n",
       "            font-family: \"Source Code Pro\";\n",
       "\t\t\tfont-size: 90%;\n",
       "    }\n",
       "/*    .prompt{\n",
       "        display: None;\n",
       "    }*/\n",
       "\t\n",
       "    \n",
       "    .warning{\n",
       "        color: rgb( 240, 20, 20 )\n",
       "        }  \n",
       "</style>\n",
       "<script>\n",
       "    MathJax.Hub.Config({\n",
       "                        TeX: {\n",
       "                           extensions: [\"AMSmath.js\"], \n",
       "                           equationNumbers: { autoNumber: \"AMS\", useLabelIds: true}\n",
       "                           },\n",
       "                tex2jax: {\n",
       "                    inlineMath: [ ['$','$'], [\"\\\\(\",\"\\\\)\"] ],\n",
       "                    displayMath: [ ['$$','$$'], [\"\\\\[\",\"\\\\]\"] ]\n",
       "                },\n",
       "                displayAlign: 'center', // Change this to 'center' to center equations.\n",
       "                \"HTML-CSS\": {\n",
       "                    styles: {'.MathJax_Display': {\"margin\": 4}}\n",
       "                }\n",
       "        });\n",
       "</script>\n"
      ],
      "text/plain": [
       "<IPython.core.display.HTML object>"
      ]
     },
     "execution_count": 3,
     "metadata": {},
     "output_type": "execute_result"
    }
   ],
   "source": [
    "from IPython.core.display import HTML\n",
    "def css_styling():\n",
    "    styles = open('estilo.css', 'r').read()\n",
    "    return HTML(styles)\n",
    "css_styling()"
   ]
  }
 ],
 "metadata": {
  "kernelspec": {
   "display_name": "Python 3 (ipykernel)",
   "language": "python",
   "name": "python3"
  },
  "language_info": {
   "codemirror_mode": {
    "name": "ipython",
    "version": 3
   },
   "file_extension": ".py",
   "mimetype": "text/x-python",
   "name": "python",
   "nbconvert_exporter": "python",
   "pygments_lexer": "ipython3",
   "version": "3.12.2"
  },
  "toc": {
   "base_numbering": 1,
   "nav_menu": {},
   "number_sections": true,
   "sideBar": true,
   "skip_h1_title": false,
   "title_cell": "Table of Contents",
   "title_sidebar": "Contents",
   "toc_cell": false,
   "toc_position": {},
   "toc_section_display": true,
   "toc_window_display": false
  }
 },
 "nbformat": 4,
 "nbformat_minor": 5
}
